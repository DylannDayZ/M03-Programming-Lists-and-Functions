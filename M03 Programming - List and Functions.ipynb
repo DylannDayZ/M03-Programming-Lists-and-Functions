{
 "cells": [
  {
   "cell_type": "code",
   "execution_count": null,
   "id": "2d2f5fda",
   "metadata": {},
   "outputs": [],
   "source": [
    "7.4"
   ]
  },
  {
   "cell_type": "code",
   "execution_count": null,
   "id": "252c1bb0",
   "metadata": {},
   "outputs": [],
   "source": [
    "Make a list called things with three strings \"Mozzarella\", \"Cinderella\" and \"salmonnella\""
   ]
  },
  {
   "cell_type": "code",
   "execution_count": 23,
   "id": "6cc55195",
   "metadata": {},
   "outputs": [
    {
     "name": "stdout",
     "output_type": "stream",
     "text": [
      "['Mozzarella', 'Cinderella', 'Salmonella']\n"
     ]
    }
   ],
   "source": [
    "things = ['Mozzarella', 'Cinderella', 'Salmonella']\n",
    "print(things)"
   ]
  },
  {
   "cell_type": "code",
   "execution_count": null,
   "id": "f8d91693",
   "metadata": {},
   "outputs": [],
   "source": [
    "7.5"
   ]
  },
  {
   "cell_type": "code",
   "execution_count": null,
   "id": "67f543d7",
   "metadata": {},
   "outputs": [],
   "source": [
    "Capitalize the elements in things that refer to a person and then print \n",
    "the list did it change the element in the list?\n",
    "\n",
    "no? Maybe i did this incorrectly haha."
   ]
  },
  {
   "cell_type": "code",
   "execution_count": 24,
   "id": "16399566",
   "metadata": {},
   "outputs": [
    {
     "name": "stdout",
     "output_type": "stream",
     "text": [
      "('Mozzarella', 'CINDERELLA', 'Salmonella')\n"
     ]
    }
   ],
   "source": [
    "things = 'Mozzarella', 'CINDERELLA', 'Salmonella'\n",
    "print(things)\n"
   ]
  },
  {
   "cell_type": "code",
   "execution_count": null,
   "id": "2223b2ea",
   "metadata": {},
   "outputs": [],
   "source": [
    "7.6"
   ]
  },
  {
   "cell_type": "code",
   "execution_count": null,
   "id": "e6ab6efb",
   "metadata": {},
   "outputs": [],
   "source": [
    "Make the cheesy element of things all uppercase and then print the list."
   ]
  },
  {
   "cell_type": "code",
   "execution_count": 26,
   "id": "15e2d7d5",
   "metadata": {},
   "outputs": [
    {
     "name": "stdout",
     "output_type": "stream",
     "text": [
      "['YOGURT', 'DAIRY', 'PARM']\n"
     ]
    }
   ],
   "source": [
    "CheesyThings = ['YOGURT', 'DAIRY', 'PARM']\n",
    "print(CheesyThings)"
   ]
  },
  {
   "cell_type": "code",
   "execution_count": null,
   "id": "0989e883",
   "metadata": {},
   "outputs": [],
   "source": [
    "7.7"
   ]
  },
  {
   "cell_type": "code",
   "execution_count": null,
   "id": "25429018",
   "metadata": {},
   "outputs": [],
   "source": [
    "Delete the disease element from things collect your nobel prize and print the list."
   ]
  },
  {
   "cell_type": "code",
   "execution_count": 27,
   "id": "9f34dcfe",
   "metadata": {},
   "outputs": [
    {
     "name": "stdout",
     "output_type": "stream",
     "text": [
      "('Mozzarella', 'CINDERELLA')\n"
     ]
    }
   ],
   "source": [
    "things = 'Mozzarella', 'CINDERELLA'\n",
    "print(things)"
   ]
  },
  {
   "cell_type": "code",
   "execution_count": null,
   "id": "2d0004f1",
   "metadata": {},
   "outputs": [],
   "source": [
    "9.2 Define a function called good()that returns the following list: [harry,ron,hermione]"
   ]
  },
  {
   "cell_type": "code",
   "execution_count": 35,
   "id": "2b779f9d",
   "metadata": {},
   "outputs": [],
   "source": [
    "good = 'Harry', 'Ron', 'Hermione'\n",
    "\n",
    "def good  (Harry, Ron, Hermione):\n",
    "    return\n",
    "\n",
    "\n",
    "    "
   ]
  },
  {
   "cell_type": "code",
   "execution_count": null,
   "id": "60441e30",
   "metadata": {},
   "outputs": [],
   "source": [
    "Define a generator function called get_odds() \n",
    "that returns the odd numbers from range(10) use a for loop to find and print the third value returned."
   ]
  },
  {
   "cell_type": "code",
   "execution_count": null,
   "id": "c1374782",
   "metadata": {},
   "outputs": [],
   "source": [
    "def get_odds()\n"
   ]
  },
  {
   "cell_type": "code",
   "execution_count": null,
   "id": "0728ca95",
   "metadata": {},
   "outputs": [],
   "source": []
  }
 ],
 "metadata": {
  "kernelspec": {
   "display_name": "Python 3 (ipykernel)",
   "language": "python",
   "name": "python3"
  },
  "language_info": {
   "codemirror_mode": {
    "name": "ipython",
    "version": 3
   },
   "file_extension": ".py",
   "mimetype": "text/x-python",
   "name": "python",
   "nbconvert_exporter": "python",
   "pygments_lexer": "ipython3",
   "version": "3.11.5"
  }
 },
 "nbformat": 4,
 "nbformat_minor": 5
}
